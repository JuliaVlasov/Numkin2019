{
 "cells": [
  {
   "cell_type": "markdown",
   "metadata": {},
   "source": [
    "## GPU Computing"
   ]
  },
  {
   "cell_type": "markdown",
   "metadata": {},
   "source": [
    "https://github.com/JuliaGPU"
   ]
  },
  {
   "cell_type": "code",
   "execution_count": 1,
   "metadata": {},
   "outputs": [],
   "source": [
    "using Plots, BenchmarkTools, FFTW, LinearAlgebra"
   ]
  },
  {
   "cell_type": "markdown",
   "metadata": {},
   "source": [
    "### Advection equation for a rotation in two dimensional domain"
   ]
  },
  {
   "cell_type": "code",
   "execution_count": 2,
   "metadata": {},
   "outputs": [],
   "source": [
    "struct Mesh\n",
    "\n",
    "    nx   :: Int64\n",
    "    ny   :: Int64\n",
    "    x    :: Vector{Float64}\n",
    "    y    :: Vector{Float64}\n",
    "    kx   :: Vector{Float64}\n",
    "    ky   :: Vector{Float64}\n",
    "\n",
    "    function Mesh( xmin, xmax, nx, ymin, ymax, ny)\n",
    "        # periodic boundary condition, we remove the end point.\n",
    "        x = range(xmin, stop=xmax, length=nx+1)[1:end-1]\n",
    "        y = range(ymin, stop=ymax, length=ny+1)[1:end-1]\n",
    "        kx  = 2π ./ (xmax-xmin) .* [0:nx÷2-1;nx÷2-nx:-1]\n",
    "        ky  = 2π ./ (ymax-ymin) .* [0:ny÷2-1;ny÷2-ny:-1]\n",
    "        new( nx, ny, x, y, kx, ky)\n",
    "    end\n",
    "end"
   ]
  },
  {
   "cell_type": "code",
   "execution_count": 3,
   "metadata": {},
   "outputs": [
    {
     "data": {
      "text/plain": [
       "exact (generic function with 1 method)"
      ]
     },
     "execution_count": 3,
     "metadata": {},
     "output_type": "execute_result"
    }
   ],
   "source": [
    "function exact(time, mesh :: Mesh; shift=1.0)\n",
    "\n",
    "    f = zeros(Float64,(mesh.nx, mesh.ny))\n",
    "    for (i, x) in enumerate(mesh.x), (j, y) in enumerate(mesh.y)\n",
    "        xn = cos(time)*x - sin(time)*y\n",
    "        yn = sin(time)*x + cos(time)*y\n",
    "        f[i,j] = exp(-(xn-shift)*(xn-shift)/0.1)*exp(-(yn-shift)*(yn-shift)/0.1)\n",
    "    end\n",
    "\n",
    "    f\n",
    "end"
   ]
  },
  {
   "cell_type": "code",
   "execution_count": 4,
   "metadata": {},
   "outputs": [
    {
     "data": {
      "text/plain": [
       "animation (generic function with 1 method)"
      ]
     },
     "execution_count": 4,
     "metadata": {},
     "output_type": "execute_result"
    }
   ],
   "source": [
    "function animation( tf, nt)\n",
    "\n",
    "    mesh = Mesh( -π, π, 64, -π, π, 64)\n",
    "    dt = tf / nt\n",
    "    t = 0\n",
    "    anim = @animate for n=1:nt\n",
    "\n",
    "       f = exact(t, mesh)\n",
    "       t += dt\n",
    "       p = contour(mesh.x, mesh.y, f, axis=[], framestyle=:none)\n",
    "       plot!(p[1]; clims=(0.,1.), aspect_ratio=:equal, colorbar=false, show=false)\n",
    "       plot!(sqrt(2) .* cos.(-pi:0.1:pi+0.1),\n",
    "             sqrt(2) .* sin.(-pi:0.1:pi+0.1), label=\"\", show=false)\n",
    "       xlims!(-π,π)\n",
    "       ylims!(-π,π)\n",
    "\n",
    "    end\n",
    "\n",
    "    anim\n",
    "\n",
    "end"
   ]
  },
  {
   "cell_type": "code",
   "execution_count": 5,
   "metadata": {},
   "outputs": [
    {
     "name": "stderr",
     "output_type": "stream",
     "text": [
      "┌ Info: Saved animation to \n",
      "│   fn = /home/pnavaro/Numkin2019/notebooks/rotation2d.gif\n",
      "└ @ Plots /home/pnavaro/.julia/packages/Plots/Iuc9S/src/animation.jl:95\n"
     ]
    },
    {
     "data": {
      "text/html": [
       "<img src=\"rotation2d.gif\" />"
      ],
      "text/plain": [
       "Plots.AnimatedGif(\"/home/pnavaro/Numkin2019/notebooks/rotation2d.gif\")"
      ]
     },
     "execution_count": 5,
     "metadata": {},
     "output_type": "execute_result"
    }
   ],
   "source": [
    "anim = animation( 2π, 100)\n",
    "gif( anim, \"rotation2d.gif\")"
   ]
  },
  {
   "cell_type": "code",
   "execution_count": 6,
   "metadata": {},
   "outputs": [
    {
     "data": {
      "text/plain": [
       "rotation_on_cpu (generic function with 1 method)"
      ]
     },
     "execution_count": 6,
     "metadata": {},
     "output_type": "execute_result"
    }
   ],
   "source": [
    "function rotation_on_cpu( mesh :: Mesh, nt :: Int64, tf :: Float64)\n",
    "\n",
    "    dt = tf / nt\n",
    "\n",
    "    f   = zeros(ComplexF64,(mesh.nx,mesh.ny))\n",
    "    f  .= exact( 0.0, mesh )\n",
    "\n",
    "    exky = exp.( 1im*tan(dt/2) .* mesh.x  .* mesh.ky')\n",
    "    ekxy = exp.(-1im*sin(dt)   .* mesh.y' .* mesh.kx )\n",
    "\n",
    "    for n = 1:nt\n",
    "\n",
    "        fft!(f, 2)\n",
    "        f .= exky .* f\n",
    "        ifft!(f,2)\n",
    "\n",
    "        fft!(f, 1)\n",
    "        f .= ekxy .* f\n",
    "        ifft!(f, 1)\n",
    "\n",
    "        fft!(f, 2)\n",
    "        f .= exky .* f\n",
    "        ifft!(f, 2)\n",
    "\n",
    "    end\n",
    "\n",
    "    real(f)\n",
    "\n",
    "end"
   ]
  },
  {
   "cell_type": "code",
   "execution_count": 7,
   "metadata": {},
   "outputs": [
    {
     "name": "stdout",
     "output_type": "stream",
     "text": [
      " 16.230785 seconds (482.64 k allocations: 103.787 MiB, 0.88% gc time)\n",
      "4.322852262251016e-12\n"
     ]
    }
   ],
   "source": [
    "mesh = Mesh( -π, π, 1024, -π, π, 1024)\n",
    "nt, tf = 100, 20.\n",
    "rotation_on_cpu(mesh, 1, 0.1) # trigger building\n",
    "etime = @time norm( rotation_on_cpu(mesh, nt, tf) .- exact( tf, mesh))\n",
    "println(etime)"
   ]
  },
  {
   "cell_type": "code",
   "execution_count": 8,
   "metadata": {},
   "outputs": [
    {
     "name": "stdout",
     "output_type": "stream",
     "text": [
      "Tesla K20m\n"
     ]
    }
   ],
   "source": [
    "using Pkg\n",
    "\n",
    "GPU_ENABLED = haskey(Pkg.installed(), \"CUDAdrv\")\n",
    "\n",
    "if GPU_ENABLED\n",
    "\n",
    "    using CUDAdrv, CuArrays, CuArrays.CUFFT\n",
    "\n",
    "    println(CUDAdrv.name(CuDevice(0)))\n",
    "\n",
    "end"
   ]
  },
  {
   "cell_type": "code",
   "execution_count": 9,
   "metadata": {},
   "outputs": [
    {
     "data": {
      "text/plain": [
       "rotation_on_gpu (generic function with 1 method)"
      ]
     },
     "execution_count": 9,
     "metadata": {},
     "output_type": "execute_result"
    }
   ],
   "source": [
    "if GPU_ENABLED\n",
    "\n",
    "    function rotation_on_gpu( mesh :: Mesh, nt :: Int64, tf :: Float64)\n",
    "\n",
    "        dt  = tf / nt\n",
    "        f   = zeros(ComplexF64,(mesh.nx, mesh.ny))\n",
    "        f  .= exact( 0.0, mesh)\n",
    "\n",
    "        d_f    = CuArray(f) # allocate f on GPU\n",
    "\n",
    "        p_x    = plan_fft!(d_f,  [1]) # Create fft plans on GPU\n",
    "        pinv_x = plan_ifft!(d_f, [1])\n",
    "        p_y    = plan_fft!(d_f,  [2])\n",
    "        pinv_y = plan_ifft!(d_f, [2])\n",
    "\n",
    "        d_exky = CuArray(exp.( 1im*tan(dt/2) .* mesh.x  .* mesh.ky'))\n",
    "        d_ekxy = CuArray(exp.(-1im*sin(dt)   .* mesh.y' .* mesh.kx ))\n",
    "\n",
    "        for n = 1:nt\n",
    "\n",
    "            p_y * d_f\n",
    "            d_f .*= d_exky\n",
    "            pinv_y * d_f\n",
    "\n",
    "            p_x * d_f\n",
    "            d_f .*= d_ekxy\n",
    "            pinv_x * d_f\n",
    "\n",
    "            p_y * d_f\n",
    "            d_f .*= d_exky\n",
    "            pinv_y * d_f\n",
    "\n",
    "        end\n",
    "\n",
    "        f .= collect(d_f) # Transfer f from GPU to CPU\n",
    "        real(f)\n",
    "\n",
    "    end\n",
    "\n",
    "end"
   ]
  },
  {
   "cell_type": "code",
   "execution_count": 10,
   "metadata": {},
   "outputs": [
    {
     "name": "stdout",
     "output_type": "stream",
     "text": [
      "  1.245379 seconds (259.94 k allocations: 205.618 MiB, 14.12% gc time)\n",
      "4.684258104699243e-12\n"
     ]
    }
   ],
   "source": [
    "if GPU_ENABLED\n",
    "\n",
    "    nt, tf = 100, 20.\n",
    "    rotation_on_gpu(mesh, 1, 0.1)\n",
    "    etime = @time norm( rotation_on_gpu(mesh, nt, tf) .- exact( tf, mesh))\n",
    "    println(etime)\n",
    "\n",
    "end"
   ]
  },
  {
   "cell_type": "markdown",
   "metadata": {},
   "source": [
    "*This notebook was generated using [Literate.jl](https://github.com/fredrikekre/Literate.jl).*"
   ]
  }
 ],
 "metadata": {
  "kernelspec": {
   "display_name": "Julia 1.2.0",
   "language": "julia",
   "name": "julia-1.2"
  },
  "language_info": {
   "file_extension": ".jl",
   "mimetype": "application/julia",
   "name": "julia",
   "version": "1.2.0"
  }
 },
 "nbformat": 4,
 "nbformat_minor": 3
}
