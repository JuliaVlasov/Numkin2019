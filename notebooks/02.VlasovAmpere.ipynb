{
 "cells": [
  {
   "outputs": [],
   "cell_type": "markdown",
   "source": [
    "## 1D1V Vlasov–Ampere system\n",
    "\n",
    "\\begin{equation}\n",
    "\\\\frac{\\\\partial f}{\\\\partial t} + \\\\upsilon \\\\frac{\\\\partial f}{\\\\partial x} - E(t,x) \\\\frac{\\\\partial f}{\\\\partial \\\\upsilon} = 0\n",
    "\\end{equation}\n",
    "\n",
    "\\begin{equation}\n",
    "\\\\frac{\\\\partial E}{\\\\partial t} = - J = \\\\displaystyle \\\\int  f\\\\upsilon \\\\; d\\\\upsilon\n",
    "\\end{equation}"
   ],
   "metadata": {}
  },
  {
   "outputs": [],
   "cell_type": "code",
   "source": [
    "using ProgressMeter, FFTW, Plots, LinearAlgebra\n",
    "using BenchmarkTools, Statistics\n",
    "\n",
    "\"\"\"\n",
    "    UniformMesh(start, stop, length)\n",
    "\n",
    "1D uniform mesh data for periodic domain (end point is removed)\n",
    "\"\"\"\n",
    "struct UniformMesh\n",
    "\n",
    "   start    :: Float64\n",
    "   stop     :: Float64\n",
    "   length   :: Int64\n",
    "   step     :: Float64\n",
    "   points   :: Vector{Float64}\n",
    "\n",
    "   function UniformMesh(start, stop, length)\n",
    "\n",
    "       points = range(start, stop=stop, length=length+1)[1:end-1]\n",
    "       step = (stop - start) / length\n",
    "\n",
    "       new( start, stop, length, step, points)\n",
    "\n",
    "   end\n",
    "\n",
    "end"
   ],
   "metadata": {},
   "execution_count": null
  },
  {
   "outputs": [],
   "cell_type": "markdown",
   "source": [
    "## Compute charge density ρ(x)"
   ],
   "metadata": {}
  },
  {
   "outputs": [],
   "cell_type": "code",
   "source": [
    "\"\"\"\n",
    "    compute_rho( mesh, f)\n",
    "\n",
    "Compute charge density ρ(x,t) = ∫ f(x,v,t) dv\n",
    "\n",
    "returns ρ - ρ̄\n",
    "\n",
    "\"\"\"\n",
    "function compute_rho(meshv::UniformMesh, f)\n",
    "\n",
    "   dv  = meshv.step\n",
    "   ρ = dv .* vec(sum(real(f), dims=2))\n",
    "   ρ .- mean(ρ)\n",
    "\n",
    "end"
   ],
   "metadata": {},
   "execution_count": null
  },
  {
   "outputs": [],
   "cell_type": "markdown",
   "source": [
    "## Compute electric field from ρ(x)"
   ],
   "metadata": {}
  },
  {
   "outputs": [],
   "cell_type": "code",
   "source": [
    "\"\"\"\n",
    "    compute_e(mesh, ρ)\n",
    "\n",
    "compute electric field from ρ\n",
    "\"\"\"\n",
    "function compute_e(mesh::UniformMesh, ρ)\n",
    "\n",
    "   n = mesh.length\n",
    "   k =  2π / (mesh.stop - mesh.start)\n",
    "   modes = [1.0; k .* vcat(1:n÷2-1,-n÷2:-1)...]\n",
    "   ρ̂ = fft(ρ)./modes\n",
    "   vec(real(ifft(-1im .* ρ̂)))\n",
    "\n",
    "end"
   ],
   "metadata": {},
   "execution_count": null
  },
  {
   "outputs": [],
   "cell_type": "markdown",
   "source": [
    "## Callable struct `Advection`"
   ],
   "metadata": {}
  },
  {
   "outputs": [],
   "cell_type": "code",
   "source": [
    "\"\"\"\n",
    "    advection! = AmpereAdvection( mesh, kx)\n",
    "\n",
    "For every created struct, two methods are available\n",
    "- Advection method along v\n",
    "- Advection method along x and e computation\n",
    "\n",
    "\"\"\"\n",
    "struct AmpereAdvection\n",
    "\n",
    "    mesh :: UniformMesh\n",
    "    kx   :: Vector{Float64}\n",
    "\n",
    "    function AmpereAdvection( mesh )\n",
    "\n",
    "        nx  = mesh.length\n",
    "        dx  = mesh.step\n",
    "        Lx  = mesh.stop - mesh.start\n",
    "        kx  = zeros(Float64, nx)\n",
    "        kx .= 2π/Lx .* [0:nx÷2-1;-nx÷2:-1]\n",
    "        new( mesh, kx)\n",
    "\n",
    "    end\n",
    "\n",
    "end\n",
    "\n",
    "\n",
    "\n",
    "function (adv :: AmpereAdvection)( fᵗ  :: Array{ComplexF64,2},\n",
    "                                   e   :: Vector{ComplexF64},\n",
    "                                   dt  :: Float64 )\n",
    "    fft!(fᵗ, 1)\n",
    "    fᵗ .= fᵗ .* exp.(-1im * dt * adv.kx * transpose(e))\n",
    "    ifft!(fᵗ, 1)\n",
    "\n",
    "end\n",
    "\n",
    "\n",
    "function (adv :: AmpereAdvection)( f   :: Array{ComplexF64,2},\n",
    "                                   e   :: Vector{ComplexF64},\n",
    "                                   v   :: Vector{Float64},\n",
    "                                   dt  :: Float64 )\n",
    "\n",
    "    ev = exp.(-1im*dt * adv.kx * transpose(v))\n",
    "\n",
    "    fft!(f,1)\n",
    "    f .= f .* ev\n",
    "    dv = v[2]-v[1]\n",
    "    ρ = dv * vec(sum(f,dims=2))\n",
    "    for i in 2:length(e)\n",
    "        e[i] = -1im * ρ[i] / adv.kx[i]\n",
    "    end\n",
    "    e[1] = 0.0\n",
    "    ifft!(f, 1)\n",
    "    ifft!(e)\n",
    "    e .= real(e)\n",
    "end"
   ],
   "metadata": {},
   "execution_count": null
  },
  {
   "outputs": [],
   "cell_type": "markdown",
   "source": [
    "## Initial distribution function\n",
    "\n",
    "\\begin{equation}\n",
    "f(x,v) = \\\\frac{1}{\\\\sqrt{2\\\\pi}}(1+ ϵ \\\\cdot cos(k_x x)) e^{-v^2/2}\n",
    "\\end{equation}"
   ],
   "metadata": {}
  },
  {
   "outputs": [],
   "cell_type": "code",
   "source": [
    "\"\"\"\n",
    "    landau( ϵ, kx, x, v )\n",
    "\n",
    "Landau damping initialisation function\n",
    "\n",
    "[Wikipedia](https://en.wikipedia.org/wiki/Landau_damping)\n",
    "\n",
    "\n",
    "\"\"\"\n",
    "function landau( ϵ, kx, x, v )\n",
    "\n",
    "    (1.0 .+ ϵ*cos.(kx*x))/sqrt(2π) .* transpose(exp.(-0.5*v.*v))\n",
    "\n",
    "end\n",
    "\n",
    "\n",
    "nx, nv = 256, 256\n",
    "xmin, xmax =  0., 4*π\n",
    "vmin, vmax = -6., 6.\n",
    "tf = 60\n",
    "nt = 600\n",
    "meshx = UniformMesh(xmin, xmax, nx)\n",
    "meshv = UniformMesh(vmin, vmax, nv);"
   ],
   "metadata": {},
   "execution_count": null
  },
  {
   "outputs": [],
   "cell_type": "markdown",
   "source": [
    "Initialize distribution function"
   ],
   "metadata": {}
  },
  {
   "outputs": [],
   "cell_type": "code",
   "source": [
    "x = meshx.points\n",
    "v = meshv.points\n",
    "ϵ, kx = 0.001, 0.5"
   ],
   "metadata": {},
   "execution_count": null
  },
  {
   "outputs": [],
   "cell_type": "markdown",
   "source": [
    "Allocate arrays for distribution function and its transposed"
   ],
   "metadata": {}
  },
  {
   "outputs": [],
   "cell_type": "code",
   "source": [
    "f = zeros(Complex{Float64},(nx,nv))\n",
    "fᵀ= zeros(Complex{Float64},(nv,nx))\n",
    "\n",
    "f .= landau( ϵ, kx, x, v)\n",
    "\n",
    "\n",
    "Plot the distribution\n",
    "\n",
    "surface( x, v, real(f))"
   ],
   "metadata": {},
   "execution_count": null
  },
  {
   "outputs": [],
   "cell_type": "code",
   "source": [
    "transpose!(fᵀ,f)\n",
    "\n",
    "ρ  = compute_rho(meshv, f)\n",
    "e  = zeros(ComplexF64, nx)\n",
    "e .= compute_e(meshx, ρ)\n",
    "\n",
    "mod_e = Float64[]\n",
    "\n",
    "dt = tf / nt\n",
    "\n",
    "advection_x! = AmpereAdvection( meshx )\n",
    "advection_v! = AmpereAdvection( meshv );\n",
    "\n",
    "\n",
    "@showprogress 1 for i in 1:nt\n",
    "\n",
    "    advection_v!(fᵀ, e, 0.5dt)\n",
    "\n",
    "    transpose!(f, fᵀ)\n",
    "\n",
    "    advection_x!( f, e, v, dt)\n",
    "\n",
    "    push!(mod_e, log(sqrt((sum(e.^2))*meshx.step))) # diagnostic\n",
    "\n",
    "    transpose!(fᵀ, f)\n",
    "\n",
    "    advection_v!(fᵀ, e, 0.5dt)\n",
    "\n",
    "end\n",
    "\n",
    "\n",
    "t = range(0, stop=tf, length=nt)\n",
    "plot(t, -0.1533*t.-5.48)\n",
    "plot!(t, mod_e , label=:ampere )"
   ],
   "metadata": {},
   "execution_count": null
  },
  {
   "outputs": [],
   "cell_type": "markdown",
   "source": [
    "*This notebook was generated using [Literate.jl](https://github.com/fredrikekre/Literate.jl).*"
   ],
   "metadata": {}
  }
 ],
 "nbformat_minor": 3,
 "metadata": {
  "language_info": {
   "file_extension": ".jl",
   "mimetype": "application/julia",
   "name": "julia",
   "version": "1.2.0"
  },
  "kernelspec": {
   "name": "julia-1.2",
   "display_name": "Julia 1.2.0",
   "language": "julia"
  }
 },
 "nbformat": 4
}
