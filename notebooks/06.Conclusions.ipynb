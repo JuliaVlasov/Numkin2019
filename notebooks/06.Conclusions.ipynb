{
 "cells": [
  {
   "outputs": [],
   "cell_type": "markdown",
   "source": [
    "### Optimizing Julia code is often done at the expense of transparency"
   ],
   "metadata": {}
  },
  {
   "outputs": [],
   "cell_type": "code",
   "source": [
    "using Random, LinearAlgebra, BenchmarkTools\n",
    "\n",
    "function test(A, B, C)\n",
    "    C = C - A * B\n",
    "    return C\n",
    "end\n",
    "\n",
    "A = rand(1024, 256); B = rand(256, 1024); C = rand(1024, 1024)\n",
    "@btime test(A, B, C); #C, A and B are matrices.\n",
    "\n",
    "\n",
    "function test_opt(A, B, C)\n",
    "    BLAS.gemm!('N','N', -1., A, B, 1., C)\n",
    "    return C\n",
    "end\n",
    "@btime test_opt(A, B, C) # avoids taking two unnecessary copies of the matrix C.\n",
    "\n",
    "\n",
    "C = rand(1024, 1024)\n",
    "all(test(A, B, C) .== test_opt(A, B, C))"
   ],
   "metadata": {},
   "execution_count": null
  },
  {
   "outputs": [],
   "cell_type": "markdown",
   "source": [
    "### Derivative computation with FFT"
   ],
   "metadata": {}
  },
  {
   "outputs": [],
   "cell_type": "code",
   "source": [
    "using FFTW\n",
    "\n",
    "xmin, xmax, nx = 0, 4π, 1024\n",
    "ymin, ymax, ny = 0, 4π, 1024\n",
    "\n",
    "x = range(xmin, stop=xmax, length=nx+1)[1:end-1]\n",
    "y = range(ymin, stop=ymax, length=ny+1)[1:end-1]\n",
    "\n",
    "ky  = 2π ./ (ymax-ymin) .* [0:ny÷2-1;ny÷2-ny:-1]\n",
    "exky = exp.( 1im .* ky' .* x)\n",
    "\n",
    "function df_dy( f, exky )\n",
    "    ifft(exky .* fft(f, 2), 2)\n",
    "end\n",
    "\n",
    "f = sin.(x) .* cos.(y') # f is a 2d array created by broadcasting\n",
    "\n",
    "@btime df_dy(f, exky)"
   ],
   "metadata": {},
   "execution_count": null
  },
  {
   "outputs": [],
   "cell_type": "markdown",
   "source": [
    "### Memory alignement, and inplace computation."
   ],
   "metadata": {}
  },
  {
   "outputs": [],
   "cell_type": "code",
   "source": [
    "f  = zeros(ComplexF64, (nx,ny))\n",
    "fᵗ = zeros(ComplexF64, reverse(size(f)))\n",
    "f̂ᵗ = zeros(ComplexF64, reverse(size(f)))\n",
    "\n",
    "f .= sin.(x) .* cos.(y')\n",
    "\n",
    "fft_plan = plan_fft(fᵗ, 1, flags=FFTW.PATIENT)\n",
    "\n",
    "function df_dy!( f, fᵗ, f̂ᵗ, exky )\n",
    "    transpose!(fᵗ,f)\n",
    "    mul!(f̂ᵗ,  fft_plan, fᵗ)\n",
    "    f̂ᵗ .= f̂ᵗ .* exky\n",
    "    ldiv!(fᵗ, fft_plan, f̂ᵗ)\n",
    "    transpose!(f, fᵗ)\n",
    "end\n",
    "\n",
    "@btime df_dy!(f, fᵗ, f̂ᵗ, exky )"
   ],
   "metadata": {},
   "execution_count": null
  },
  {
   "outputs": [],
   "cell_type": "markdown",
   "source": [
    "*This notebook was generated using [Literate.jl](https://github.com/fredrikekre/Literate.jl).*"
   ],
   "metadata": {}
  }
 ],
 "nbformat_minor": 3,
 "metadata": {
  "language_info": {
   "file_extension": ".jl",
   "mimetype": "application/julia",
   "name": "julia",
   "version": "1.2.0"
  },
  "kernelspec": {
   "name": "julia-1.2",
   "display_name": "Julia 1.2.0",
   "language": "julia"
  }
 },
 "nbformat": 4
}
