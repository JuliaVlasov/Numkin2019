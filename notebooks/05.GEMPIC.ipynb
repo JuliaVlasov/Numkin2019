{
 "cells": [
  {
   "outputs": [],
   "cell_type": "markdown",
   "source": [
    "# GEMPIC\n",
    "\n",
    "### Geometric ElectroMagnetic Particle-In-Cell Methods\n",
    "\n",
    "https://arxiv.org/abs/1609.03053\n",
    "\n",
    "Michael Kraus, Katharina Kormann, Philip J. Morrison, Eric Sonnendrücker\n",
    "\n",
    "Framework for Finite Element Particle-in-Cell methods based on\n",
    "the discretization of the underlying Hamiltonian structure of the\n",
    "Vlasov-Maxwell system.\n",
    "\n",
    "Install the GEMPIC package"
   ],
   "metadata": {}
  },
  {
   "outputs": [],
   "cell_type": "code",
   "source": [
    "using Pkg\n",
    "\n",
    "Pkg.add(PackageSpec(url=\"https://github.com/juliavlasov/GEMPIC.jl\"))\n",
    "\n",
    "using ProgressMeter, Plots, GEMPIC"
   ],
   "metadata": {},
   "execution_count": null
  },
  {
   "outputs": [],
   "cell_type": "markdown",
   "source": [
    "# Strong Landau Damping\n",
    "\n",
    "The physical parameters"
   ],
   "metadata": {}
  },
  {
   "outputs": [],
   "cell_type": "code",
   "source": [
    "kx, α = 0.5, 0.5\n",
    "xmin, xmax = 0, 2π/kx\n",
    "domain = [xmin, xmax, xmax - xmin]"
   ],
   "metadata": {},
   "execution_count": null
  },
  {
   "outputs": [],
   "cell_type": "markdown",
   "source": [
    "The numerical parameters"
   ],
   "metadata": {}
  },
  {
   "outputs": [],
   "cell_type": "code",
   "source": [
    "∆t = 0.05\n",
    "nx = 32\n",
    "n_particles = 100000\n",
    "mesh = GEMPIC.Mesh( xmin, xmax, nx)\n",
    "spline_degree = 3"
   ],
   "metadata": {},
   "execution_count": null
  },
  {
   "outputs": [],
   "cell_type": "markdown",
   "source": [
    "Initialize particles"
   ],
   "metadata": {}
  },
  {
   "outputs": [],
   "cell_type": "code",
   "source": [
    "mass, charge = 1.0, 1.0\n",
    "particle_group = GEMPIC.ParticleGroup{1,2}( n_particles, mass, charge, 1)\n",
    "sampler = LandauDamping( α, kx)\n",
    "\n",
    "sample!(sampler, particle_group)"
   ],
   "metadata": {},
   "execution_count": null
  },
  {
   "outputs": [],
   "cell_type": "markdown",
   "source": [
    "Particle-mesh coupling operators"
   ],
   "metadata": {}
  },
  {
   "outputs": [],
   "cell_type": "code",
   "source": [
    "kernel_smoother1 = ParticleMeshCoupling( domain, [nx], n_particles,\n",
    "                                         spline_degree-1, :galerkin)\n",
    "\n",
    "kernel_smoother0 = ParticleMeshCoupling( domain, [nx], n_particles,\n",
    "                                         spline_degree, :galerkin)\n",
    "# Allocate electrostatic fields and Maxwell solver\n",
    "rho = zeros(Float64, nx)\n",
    "efield_poisson = zeros(Float64, nx)\n",
    "\n",
    "maxwell_solver = Maxwell1DFEM(domain, nx, spline_degree)"
   ],
   "metadata": {},
   "execution_count": null
  },
  {
   "outputs": [],
   "cell_type": "markdown",
   "source": [
    "### Charge density"
   ],
   "metadata": {}
  },
  {
   "outputs": [],
   "cell_type": "code",
   "source": [
    "xg = LinRange(xmin, xmax, nx)\n",
    "sval = eval_uniform_periodic_spline_curve(spline_degree-1, rho)\n",
    "plot( xg, sval, label=\"ρ\")"
   ],
   "metadata": {},
   "execution_count": null
  },
  {
   "outputs": [],
   "cell_type": "markdown",
   "source": [
    "### Electric field"
   ],
   "metadata": {}
  },
  {
   "outputs": [],
   "cell_type": "code",
   "source": [
    "solve_poisson!( efield_poisson, particle_group,\n",
    "                kernel_smoother0, maxwell_solver, rho)\n",
    "\n",
    "sval = eval_uniform_periodic_spline_curve(spline_degree-1, efield_poisson)\n",
    "plot( xg, sval )"
   ],
   "metadata": {},
   "execution_count": null
  },
  {
   "outputs": [],
   "cell_type": "markdown",
   "source": [
    "Initialize the arrays for the spline coefficients of the fields"
   ],
   "metadata": {}
  },
  {
   "outputs": [],
   "cell_type": "code",
   "source": [
    "efield_dofs = [copy(efield_poisson), zeros(Float64, nx)]\n",
    "bfield_dofs = zeros(Float64, nx)\n",
    "\n",
    "propagator = HamiltonianSplitting( maxwell_solver,\n",
    "                                   kernel_smoother0,\n",
    "                                   kernel_smoother1,\n",
    "                                   particle_group,\n",
    "                                   efield_dofs,\n",
    "                                   bfield_dofs,\n",
    "                                   domain);\n",
    "\n",
    "efield_dofs_n = propagator.e_dofs\n",
    "\n",
    "thdiag = TimeHistoryDiagnostics( particle_group, maxwell_solver,\n",
    "                        kernel_smoother0, kernel_smoother1 );\n",
    "# ## Loop over time\n",
    "steps, Δt = 100, 0.05\n",
    "\n",
    "@showprogress 1 for j = 1:steps # loop over time\n",
    "\n",
    "    # Strang splitting\n",
    "    strang_splitting!(propagator, Δt, 1)\n",
    "\n",
    "    # Diagnostics\n",
    "    solve_poisson!( efield_poisson, particle_group,\n",
    "                    kernel_smoother0, maxwell_solver, rho)\n",
    "\n",
    "    write_step!(thdiag, j * Δt, spline_degree,\n",
    "                    efield_dofs,  bfield_dofs,\n",
    "                    efield_dofs_n, efield_poisson)\n",
    "\n",
    "end"
   ],
   "metadata": {},
   "execution_count": null
  },
  {
   "outputs": [],
   "cell_type": "markdown",
   "source": [
    "## Diagnostics stored in a dataframe"
   ],
   "metadata": {}
  },
  {
   "outputs": [],
   "cell_type": "code",
   "source": [
    "using DataFrames\n",
    "first(thdiag.data, 5)\n",
    "\n",
    "\n",
    "plot(thdiag.data[!,:Time], log.(thdiag.data[!,:PotentialEnergyE1]))"
   ],
   "metadata": {},
   "execution_count": null
  },
  {
   "outputs": [],
   "cell_type": "markdown",
   "source": [
    "*This notebook was generated using [Literate.jl](https://github.com/fredrikekre/Literate.jl).*"
   ],
   "metadata": {}
  }
 ],
 "nbformat_minor": 3,
 "metadata": {
  "language_info": {
   "file_extension": ".jl",
   "mimetype": "application/julia",
   "name": "julia",
   "version": "1.2.0"
  },
  "kernelspec": {
   "name": "julia-1.2",
   "display_name": "Julia 1.2.0",
   "language": "julia"
  }
 },
 "nbformat": 4
}
