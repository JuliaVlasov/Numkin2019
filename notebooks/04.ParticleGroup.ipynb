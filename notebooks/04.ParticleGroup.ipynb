{
 "cells": [
  {
   "outputs": [],
   "cell_type": "markdown",
   "source": [
    "# Metaprogramming\n",
    "\n",
    "## The ParticleGroup example"
   ],
   "metadata": {}
  },
  {
   "outputs": [],
   "cell_type": "code",
   "source": [
    "import Sobol\n",
    "using Plots, LinearAlgebra"
   ],
   "metadata": {},
   "execution_count": null
  },
  {
   "outputs": [],
   "cell_type": "markdown",
   "source": [
    "    ParticleGroup{D,V}(n_particles, charge, mass)\n",
    "\n",
    "- `D` : number of dimension in physical space\n",
    "- `V` : number of dimension in phase space\n",
    "- `n` : number of particles"
   ],
   "metadata": {}
  },
  {
   "outputs": [],
   "cell_type": "code",
   "source": [
    "mutable struct ParticleGroup{D,V}\n",
    "\n",
    "    n_particles       :: Int64\n",
    "    data              :: Array{Float64, 2}\n",
    "\n",
    "    function ParticleGroup{D,V}(n) where {D, V}\n",
    "\n",
    "        data = zeros( Float64, (D+V, n))\n",
    "        new( n, data)\n",
    "    end\n",
    "end"
   ],
   "metadata": {},
   "execution_count": null
  },
  {
   "outputs": [],
   "cell_type": "markdown",
   "source": [
    "Set position of ith particle of p to x"
   ],
   "metadata": {}
  },
  {
   "outputs": [],
   "cell_type": "code",
   "source": [
    "@generated function set_x!( p :: ParticleGroup{D,V}, i, x :: Float64 ) where {D, V}\n",
    "\n",
    "    :(p.data[1, i] = x)\n",
    "\n",
    "end"
   ],
   "metadata": {},
   "execution_count": null
  },
  {
   "outputs": [],
   "cell_type": "markdown",
   "source": [
    "Set position of ith particle of p to x when x is a vector"
   ],
   "metadata": {}
  },
  {
   "outputs": [],
   "cell_type": "code",
   "source": [
    "@generated function set_x!( p :: ParticleGroup{D,V}, i, x :: Vector{Float64} ) where {D, V}\n",
    "\n",
    "     :(for j in 1:$D p.data[j, i] = x[j] end)\n",
    "\n",
    "end"
   ],
   "metadata": {},
   "execution_count": null
  },
  {
   "outputs": [],
   "cell_type": "markdown",
   "source": [
    "Set velocity of ith particle of p to v"
   ],
   "metadata": {}
  },
  {
   "outputs": [],
   "cell_type": "code",
   "source": [
    "@generated function set_v!( p :: ParticleGroup{D,V}, i, v :: Float64 ) where {D, V}\n",
    "\n",
    "    :(p.data[$D+1, i] = v)\n",
    "\n",
    "end"
   ],
   "metadata": {},
   "execution_count": null
  },
  {
   "outputs": [],
   "cell_type": "markdown",
   "source": [
    "Set velocity of ith particle of p to v"
   ],
   "metadata": {}
  },
  {
   "outputs": [],
   "cell_type": "code",
   "source": [
    "@generated function set_v!( p :: ParticleGroup{D,V}, i, v :: Vector{Float64} ) where {D, V}\n",
    "\n",
    "    :(for j in 1:$V p.data[$D+j, i] = v[j] end)\n",
    "\n",
    "end"
   ],
   "metadata": {},
   "execution_count": null
  },
  {
   "outputs": [],
   "cell_type": "markdown",
   "source": [
    "Get position of ith particle of p"
   ],
   "metadata": {}
  },
  {
   "outputs": [],
   "cell_type": "code",
   "source": [
    "@generated function get_x( p :: ParticleGroup{D,V}, i ) where {D, V}\n",
    "\n",
    "     :(p.data[1:$D, i])\n",
    "\n",
    "end"
   ],
   "metadata": {},
   "execution_count": null
  },
  {
   "outputs": [],
   "cell_type": "markdown",
   "source": [
    "Get velocity of ith particle of p"
   ],
   "metadata": {}
  },
  {
   "outputs": [],
   "cell_type": "code",
   "source": [
    "@generated function get_v( p :: ParticleGroup{D,V}, i ) where {D, V}\n",
    "\n",
    "     :(p.data[$D+1:$D+$V, i])\n",
    "end"
   ],
   "metadata": {},
   "execution_count": null
  },
  {
   "outputs": [],
   "cell_type": "markdown",
   "source": [
    "Sampling from a probability distribution to initialize Landau damping"
   ],
   "metadata": {}
  },
  {
   "outputs": [],
   "cell_type": "code",
   "source": [
    "function landau_sampling!( pg :: ParticleGroup{1,2}, alpha, kx )\n",
    "\n",
    "    function newton(r)\n",
    "        x0, x1 = 0.0, 1.0\n",
    "        r *= 2π / kx\n",
    "        while (abs(x1-x0) > 1e-12)\n",
    "            p = x0 + alpha * sin( kx * x0) / kx\n",
    "            f = 1 + alpha * cos( kx * x0)\n",
    "            x0, x1 = x1, x0 - (p - r) / f\n",
    "        end\n",
    "        x1\n",
    "    end\n",
    "\n",
    "    s = Sobol.SobolSeq(2)\n",
    "    nbpart = pg.n_particles\n",
    "\n",
    "    for i=1:nbpart\n",
    "\n",
    "        v = sqrt(-2 * log( (i-0.5)/nbpart))\n",
    "        r1, r2 = Sobol.next!(s)\n",
    "        θ = r1 * 2π\n",
    "        set_x!(pg,  i, newton(r2))\n",
    "        set_v!(pg,  i, [v * cos(θ), v * sin(θ)])\n",
    "    end\n",
    "\n",
    "end\n",
    "\n",
    "#+\n",
    "\n",
    "n_particles = 10000\n",
    "pg = ParticleGroup{1,2}( n_particles)\n",
    "alpha, kx = 0.1, 0.5\n",
    "landau_sampling!(pg, alpha, kx)\n",
    "\n",
    "\n",
    "#+\n",
    "xp = vcat([get_x(pg, i) for i in 1:pg.n_particles]...)\n",
    "vp = vcat([get_v(pg, i) for i in 1:pg.n_particles]'...)\n",
    "\n",
    "#+\n",
    "pp = plot(layout=(3,1))\n",
    "histogram!(pp[1,1], xp, normalize=true, bins = 100, lab=:x)\n",
    "plot!(pp[1,1], x -> (1+alpha*cos(kx*x))/(2π/kx), 0., 2π/kx, lab=\"\")\n",
    "histogram!(pp[2,1], vp[:,1], normalize=true, bins = 100, lab=:vx)\n",
    "plot!(pp[2,1], v -> exp( - v^2 / 2) * 4 / π^2 , -6, 6, lab=\"\")\n",
    "histogram!(pp[3,1], vp[:,2], normalize=true, bins = 100, lab=:vy)\n",
    "plot!(pp[3,1], v -> exp( - v^2 / 2) * 4 / π^2 , -6, 6, lab=\"\")\n",
    "\n",
    "\n",
    "\n",
    "#+\n",
    "histogram2d(vp[:,1], vp[:,2], normalize=true, bins=100)"
   ],
   "metadata": {},
   "execution_count": null
  },
  {
   "outputs": [],
   "cell_type": "markdown",
   "source": [
    "*This notebook was generated using [Literate.jl](https://github.com/fredrikekre/Literate.jl).*"
   ],
   "metadata": {}
  }
 ],
 "nbformat_minor": 3,
 "metadata": {
  "language_info": {
   "file_extension": ".jl",
   "mimetype": "application/julia",
   "name": "julia",
   "version": "1.2.0"
  },
  "kernelspec": {
   "name": "julia-1.2",
   "display_name": "Julia 1.2.0",
   "language": "julia"
  }
 },
 "nbformat": 4
}
