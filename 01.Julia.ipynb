{
 "cells": [
  {
   "cell_type": "code",
   "execution_count": 1,
   "metadata": {},
   "outputs": [],
   "source": [
    "IJulia.load(\"../math-julia/01.Introduction.jl\")"
   ]
  },
  {
   "cell_type": "markdown",
   "metadata": {},
   "source": [
    "\n",
    "# Why Julia?\n",
    "\n",
    "- Born in 2009 and version 1.0 was released in August 2018.\n",
    "- High-level languages like Python and R let one explore and experiment rapidly, but can run slow.\n",
    "- Low-level languages like Fortran/C++ tend to take longer to develop, but run fast.\n",
    "- This is sometimes called the \"two language problem\" and is something the Julia developers set out to eliminate. \n",
    "- Julia's promise is to provide a \"best of both worlds\" experience for programmers who need to develop novel algorithms and bring them into production environments with minimal effort.\n"
   ]
  },
  {
   "cell_type": "markdown",
   "metadata": {},
   "source": [
    "# Julia's Engineering and Design Tradoffs\n",
    "\n",
    "- Type structures cannot bechanges after created (less dynamism but memory layout can be optimized for)\n",
    "- All functions are JIT compiled via LLVM (interactive lags but massive runtime improvements)\n",
    "- All functions specialize on types of arguments (more compilation but give generic programming structures)\n",
    "- Julia is interactive (use it like Python and R, but makes it harder to get binaries)\n",
    "- Julia has great methods for handling mutation (more optimization oppotunities like C/Fortran, but more cognative burden)\n",
    "- Julia's Base library and most packages are written in Julia, (you can understand the source, but learn a new package)\n",
    "- Julia has expensive tooling for code generation and metaprogramming (consise and more optimizations, but some codes can be for experienced users)\n",
    "\n",
    "To me, this gives me a language with a lot of depth which works well for computationally-expensive scientific\n",
    "applications.\n",
    "\n",
    "[This is a ChrisRackaukas slide](https://www.youtube.com/watch?v=zJ3R6vOhibA&feature=em-uploademail) \n",
    "\n",
    "---\n",
    "\n",
    "# Type-Dispatch Programming\n",
    "\n",
    "- Centered around implementing the generic template of the algorithm not around building representations of data.\n",
    "- The data type choose how to efficiently implement the algorithm.\n",
    "- With this feature share and reuse code is very easy\n",
    "\n",
    "[JuliaCon 2019 | The Unreasonable Effectiveness of Multiple Dispatch | Stefan Karpinski](https://youtu.be/kc9HwsxE1OY)"
   ]
  },
  {
   "cell_type": "markdown",
   "metadata": {},
   "source": [
    " # Julia is a language made for Science.\n",
    "\n",
    " http://www.stochasticlifestyle.com/some-state-of-the-art-packages-in-julia-v1-0\n",
    "\n",
    " * JuliaDiff – Differentiation tools\n",
    " * JuliaDiffEq – Differential equation solving and analysis\n",
    " * JuliaGeometry – Computational Geometry\n",
    " * JuliaGraphs – Graph Theory and Implementation\n",
    " * JuliaIntervals - Rigorous numerics with interval arithmetic & applications\n",
    " * JuliaMath – Mathematics made easy in Julia\n",
    " * JuliaOpt – Optimization\n",
    " * JuliaPolyhedra – Polyhedral computation\n",
    " * JuliaSparse – Sparse matrix solvers\n",
    " * JuliaStats – Statistics and Machine Learning\n",
    " * JuliaPlots - powerful convenience for visualization\n"
   ]
  },
  {
   "cell_type": "markdown",
   "metadata": {},
   "source": [
    "# Example \n",
    "\n",
    "http://tutorials.juliadiffeq.org/html/type_handling/02-uncertainties.html"
   ]
  },
  {
   "cell_type": "code",
   "execution_count": 2,
   "metadata": {},
   "outputs": [
    {
     "name": "stderr",
     "output_type": "stream",
     "text": [
      "┌ Info: Recompiling stale cache file /Users/navaro/.julia/compiled/v1.2/DifferentialEquations/UQdwS.ji for DifferentialEquations [0c46a032-eb83-5123-abaf-570d42b7fbaa]\n",
      "└ @ Base loading.jl:1240\n",
      "WARNING: could not import LinearAlgebra.has_offset_axes into BandedMatrices\n"
     ]
    },
    {
     "ename": "ArgumentError",
     "evalue": "ArgumentError: Package Measurements not found in current path:\n- Run `import Pkg; Pkg.add(\"Measurements\")` to install the Measurements package.\n",
     "output_type": "error",
     "traceback": [
      "ArgumentError: Package Measurements not found in current path:\n- Run `import Pkg; Pkg.add(\"Measurements\")` to install the Measurements package.\n",
      "",
      "Stacktrace:",
      " [1] require(::Module, ::Symbol) at ./loading.jl:876",
      " [2] top-level scope at In[2]:1"
     ]
    }
   ],
   "source": [
    "using DifferentialEquations, Measurements, Plots\n",
    "\n",
    "g = 9.79 ± 0.02; # Gravitational constants\n",
    "L = 1.00 ± 0.01; # Length of the pendulum\n",
    "\n",
    "#Initial Conditions\n",
    "u₀ = [0 ± 0, π / 60 ± 0.01] # Initial speed and initial angle\n",
    "tspan = (0.0, 6.3)\n",
    "\n",
    "#Define the problem\n",
    "function simplependulum(du,u,p,t)\n",
    "    θ  = u[1]\n",
    "    dθ = u[2]\n",
    "    du[1] = dθ\n",
    "    du[2] = -(g/L)*θ\n",
    "end\n",
    "\n",
    "#Pass to solvers\n",
    "prob = ODEProblem(simplependulum, u₀, tspan)\n",
    "sol = solve(prob, Tsit5(), reltol = 1e-6)\n",
    "\n",
    "# Analytic solution\n",
    "u = u₀[2] .* cos.(sqrt(g / L) .* sol.t)\n",
    "\n",
    "plot(sol.t, getindex.(sol.u, 2), label = \"Numerical\")\n",
    "plot!(sol.t, u, label = \"Analytic\")"
   ]
  },
  {
   "cell_type": "markdown",
   "metadata": {},
   "source": [
    "# Package\n",
    "\n",
    "- `Project.toml`\n",
    "- `Manifest.toml`\n",
    "- `LOAD_PATH`\n",
    "\n"
   ]
  }
 ],
 "metadata": {
  "@webio": {
   "lastCommId": null,
   "lastKernelId": null
  },
  "jupytext": {
   "cell_metadata_filter": "-all",
   "main_language": "julia",
   "notebook_metadata_filter": "-all"
  },
  "kernelspec": {
   "display_name": "Julia 1.2.0",
   "language": "julia",
   "name": "julia-1.2"
  },
  "language_info": {
   "file_extension": ".jl",
   "mimetype": "application/julia",
   "name": "julia",
   "version": "1.2.0"
  }
 },
 "nbformat": 4,
 "nbformat_minor": 2
}
